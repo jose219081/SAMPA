{
 "cells": [
  {
   "cell_type": "markdown",
   "metadata": {},
   "source": [
    "# Análise com SQL Avançado\n",
    "## U.S. EPA Food Commodity Intake Database (FCID)\n",
    "### [https://fcid.foodrisk.org/](https://fcid.foodrisk.org/)"
   ]
  },
  {
   "cell_type": "markdown",
   "metadata": {},
   "source": [
    "Ativando uma conexão de banco de dados em memória usando o SGBD H2:"
   ]
  },
  {
   "cell_type": "code",
   "execution_count": 1,
   "metadata": {},
   "outputs": [],
   "source": [
    "%defaultDatasource jdbc:h2:mem:db"
   ]
  },
  {
   "cell_type": "markdown",
   "metadata": {},
   "source": [
    "# Importando Tabelas do FCID"
   ]
  },
  {
   "cell_type": "code",
   "execution_count": 2,
   "metadata": {},
   "outputs": [],
   "source": [
    "DROP TABLE IF EXISTS Crop_Group;\n",
    "DROP TABLE IF EXISTS FCID_Description;\n",
    "DROP TABLE IF EXISTS Recipes;\n",
    "DROP TABLE IF EXISTS Intake;\n",
    "\n",
    "CREATE TABLE Crop_Group (\n",
    "  CGN VARCHAR(2),\n",
    "  CGL VARCHAR(6),\n",
    "  Crop_Group_Description VARCHAR(80),\n",
    "  PRIMARY KEY (CGL)\n",
    ") AS SELECT\n",
    "  CGN, CGL, Crop_Group_Description\n",
    "FROM CSVREAD('../../data/food-intake/basics/FCID_Cropgroup_Description.csv');\n",
    "\n",
    "CREATE TABLE FCID_Description (\n",
    "  CGN VARCHAR(2),\n",
    "  CG_Subgroup VARCHAR(6),\n",
    "  FCID_Code VARCHAR(10),\n",
    "  FCID_Desc VARCHAR(55),\n",
    "  PRIMARY KEY (FCID_Code),\n",
    ") AS SELECT\n",
    "  cgn, CG_Subgroup, FCID_Code, FCID_Desc\n",
    "FROM CSVREAD('../../data/food-intake/basics/FCID_Code_Description.csv');\n",
    "\n",
    "CREATE TABLE Recipes (\n",
    "  Food_Code VARCHAR(8),\n",
    "  Mod_Code VARCHAR(8),\n",
    "  Ingredient_Num TINYINT,\n",
    "  FCID_Code VARCHAR(10),\n",
    "  Cooked_Status TINYINT,\n",
    "  Food_Form TINYINT,\n",
    "  Cooking_Method TINYINT,\n",
    "  Commodity_Weight DECIMAL(5, 2),\n",
    "  CSFII_9498_IND TINYINT,\n",
    "  WWEIA_9904_IND TINYINT,\n",
    "  WWEIA_0510_IND TINYINT,\n",
    "  PRIMARY KEY(Food_Code, Mod_Code, Ingredient_Num),\n",
    "  FOREIGN KEY(FCID_Code)\n",
    "    REFERENCES FCID_Description(FCID_Code)\n",
    "      ON DELETE NO ACTION\n",
    "      ON UPDATE NO ACTION\n",
    ") AS SELECT\n",
    "  Food_Code, Mod_Code, Ingredient_Num, FCID_Code, Cooked_Status, Food_Form, Cooking_Method,\n",
    "  Commodity_Weight, CSFII_9498_IND, WWEIA_9904_IND, WWEIA_0510_IND\n",
    "FROM CSVREAD('../../data/food-intake/recipes/Recipes_WWEIA_FCID_0510.csv');\n",
    "\n",
    "CREATE TABLE Intake (\n",
    "  SeqN INTEGER NOT NULL,\n",
    "  DayCode TINYINT NOT NULL,\n",
    "  DraBF TINYINT,\n",
    "  FCID_Code VARCHAR(10),\n",
    "  Cooked_Status TINYINT,\n",
    "  Food_Form TINYINT,\n",
    "  Cooking_Method TINYINT,\n",
    "  Intake DECIMAL(13,7),\n",
    "  Intake_BW DECIMAL(13,10),\n",
    "  PRIMARY KEY(SeqN, DayCode, FCID_Code, Cooked_Status, Food_Form, Cooking_Method),\n",
    "  FOREIGN KEY(FCID_Code)\n",
    "    REFERENCES FCID_Description(FCID_Code)\n",
    "      ON DELETE NO ACTION\n",
    "      ON UPDATE NO ACTION\n",
    ") AS SELECT\n",
    "  SEQN, DAYCODE, DRABF, FCID_Code, Cooked_Status, Food_Form, Cooking_Method, Intake,Intake_BW\n",
    "FROM CSVREAD('../../data/food-intake/consumption/Commodity_CSFFM_Intake_0510-cropped.csv');"
   ]
  },
  {
   "cell_type": "markdown",
   "metadata": {},
   "source": [
    "# Visualizando as Tabelas"
   ]
  },
  {
   "cell_type": "code",
   "execution_count": 3,
   "metadata": {},
   "outputs": [
    {
     "data": {
      "application/vnd.jupyter.widget-view+json": {
       "model_id": "b89a3f80-02b3-4acb-bb7c-5d3d4f855e42",
       "version_major": 2,
       "version_minor": 0
      },
      "method": "display_data"
     },
     "metadata": {},
     "output_type": "display_data"
    }
   ],
   "source": [
    "SELECT * FROM Crop_Group LIMIT 10;"
   ]
  },
  {
   "cell_type": "code",
   "execution_count": 4,
   "metadata": {},
   "outputs": [
    {
     "data": {
      "application/vnd.jupyter.widget-view+json": {
       "model_id": "9b197073-9158-4939-8e60-adfcfb546c1e",
       "version_major": 2,
       "version_minor": 0
      },
      "method": "display_data"
     },
     "metadata": {},
     "output_type": "display_data"
    }
   ],
   "source": [
    "SELECT * FROM FCID_Description LIMIT 10;"
   ]
  },
  {
   "cell_type": "code",
   "execution_count": 5,
   "metadata": {},
   "outputs": [
    {
     "data": {
      "application/vnd.jupyter.widget-view+json": {
       "model_id": "10c6feb9-2454-4656-bba0-ece47f008442",
       "version_major": 2,
       "version_minor": 0
      },
      "method": "display_data"
     },
     "metadata": {},
     "output_type": "display_data"
    }
   ],
   "source": [
    "SELECT * FROM Recipes LIMIT 10;"
   ]
  },
  {
   "cell_type": "code",
   "execution_count": 6,
   "metadata": {
    "scrolled": true
   },
   "outputs": [
    {
     "data": {
      "application/vnd.jupyter.widget-view+json": {
       "model_id": "7840e179-1311-409f-9ecf-6689a574ee1d",
       "version_major": 2,
       "version_minor": 0
      },
      "method": "display_data"
     },
     "metadata": {},
     "output_type": "display_data"
    }
   ],
   "source": [
    "SELECT * FROM Intake LIMIT 10;"
   ]
  },
  {
   "cell_type": "markdown",
   "metadata": {},
   "source": [
    "# Métricas\n",
    "\n",
    "Considere que a tabela Intake registra alimentos consumidos por 1.489 pessoas. Considere as seguintes métricas para um alimento:\n",
    "\n",
    "| Métrica | Descrição |\n",
    "| --- | --- |\n",
    "| Popularidade | número de pessoas (dentre as 1.489) que consumiram o alimento |\n",
    "| Intake_Sum | total consumido do alimento pelas 1.489 pessoas em gramas |\n",
    "| Intake_AVG | média de consumo do alimento em gramas |\n",
    "| Intake_AVG_BW | média de consumo do alimento x peso da pessoa |\n",
    "| Recipes | número de receitas (dentre as 7.154 receitas) que têm o produto como ingrediente |"
   ]
  },
  {
   "cell_type": "markdown",
   "metadata": {},
   "source": [
    "## 1)  Construa uma View que apresente essas métricas por produto\n",
    "\n",
    "* Veja exemplo em: `/data/food-intake/computed/commodity-profile.csv`\n",
    "* Importante: esta tabela foi feita com um número maior de registros, portanto os valores não serão iguais aos seus"
   ]
  },
  {
   "cell_type": "code",
   "execution_count": 3,
   "metadata": {},
   "outputs": [],
   "source": [
    "CREATE VIEW Medias AS\n",
    "SELECT F.FCID_CODE, AVG(I.INTAKE) as Intake_AVG, AVG(I.INTAKE_BW) as Intake_AVG_BW\n",
    "FROM Intake I, FCID_Description F\n",
    "WHERE F.FCID_CODE = I.FCID_CODE\n",
    "GROUP BY F.FCID_CODE"
   ]
  },
  {
   "cell_type": "code",
   "execution_count": 4,
   "metadata": {},
   "outputs": [],
   "source": [
    "CREATE VIEW Popularidade AS\n",
    "SELECT F.FCID_CODE, (SUM(I.INTAKE)/AVG(I.INTAKE)) as Popularidade\n",
    "FROM Intake I, FCID_Description F\n",
    "WHERE F.FCID_CODE = I.FCID_CODE\n",
    "GROUP BY F.FCID_CODE"
   ]
  },
  {
   "cell_type": "code",
   "execution_count": 5,
   "metadata": {},
   "outputs": [],
   "source": [
    "CREATE VIEW Receitas AS\n",
    "SELECT F.FCID_CODE, COUNT(R.FCID_CODE) as Recipes\n",
    "FROM FCID_Description F, Recipes R\n",
    "WHERE F.FCID_CODE = R.FCID_CODE\n",
    "GROUP BY F.FCID_CODE"
   ]
  },
  {
   "cell_type": "code",
   "execution_count": 6,
   "metadata": {},
   "outputs": [],
   "source": [
    "CREATE VIEW Soma AS\n",
    "SELECT F.FCID_CODE, SUM(I.INTAKE) as Intake_Sum\n",
    "FROM Intake I, FCID_Description F\n",
    "WHERE F.FCID_CODE = I.FCID_CODE\n",
    "GROUP BY F.FCID_CODE"
   ]
  },
  {
   "cell_type": "code",
   "execution_count": 14,
   "metadata": {},
   "outputs": [
    {
     "data": {
      "application/vnd.jupyter.widget-view+json": {
       "model_id": "1072f081-495a-4e2e-9046-44c35da8eaa4",
       "version_major": 2,
       "version_minor": 0
      },
      "method": "display_data"
     },
     "metadata": {},
     "output_type": "display_data"
    }
   ],
   "source": [
    "SELECT S.FCID_CODE, P.Popularidade, R.Recipes, M.Intake_AVG, M.Intake_AVG_BW, S.Intake_Sum\n",
    "FROM Popularidade P, Soma S, Receitas R, Medias M\n",
    "WHERE S.FCID_CODE = P.FCID_CODE AND S.FCID_CODE = R.FCID_CODE AND S.FCID_CODE = M.FCID_CODE;"
   ]
  },
  {
   "cell_type": "markdown",
   "metadata": {},
   "source": [
    "## 2) Como você analisaria a correlação entre as métricas?\n",
    "\n",
    "* Por exemplo, produtos mais populares são mais consumidos (em número de pessoas ou em quantidade)?\n",
    "* Proponha uma ou mais queries para fazer esta análise"
   ]
  },
  {
   "cell_type": "code",
   "execution_count": 13,
   "metadata": {},
   "outputs": [
    {
     "data": {
      "application/vnd.jupyter.widget-view+json": {
       "model_id": "c5aae60f-a33c-4507-b715-e4e0839adf6b",
       "version_major": 2,
       "version_minor": 0
      },
      "method": "display_data"
     },
     "metadata": {},
     "output_type": "display_data"
    }
   ],
   "source": [
    "SELECT P.FCID_CODE, P.Popularidade, M.Intake_AVG, S.Intake_Sum, M.Intake_AVG_BW\n",
    "FROM Popularidade P, Medias M, Soma S\n",
    "WHERE P.FCID_CODE = M.FCID_CODE AND P.FCID_CODE = S.FCID_CODE\n",
    "/*Na correlação entre as métricas que percebemos que com os INTAKES, méidas e somas, e POPULARIDADE não possuem uma relação direta para determinar consumo de alimento, ou seja, uma INTAKE_SUM grande não indica POPULARIDADE\n",
    "grande, apenas uma indireta na qual a soma do INTAKE dividida pela média do INTAKE resulta na POPULARIDADE*/"
   ]
  },
  {
   "cell_type": "markdown",
   "metadata": {},
   "source": [
    "## 3) Podemos criar grupos de consumidores conforme um perfil?\n",
    "* por exemplo, consumidores podem ser agrupados por alimentos que comem predominantemente?\n",
    "* como você associaria grupos a classes?"
   ]
  },
  {
   "cell_type": "code",
   "execution_count": 9,
   "metadata": {},
   "outputs": [
    {
     "data": {
      "application/vnd.jupyter.widget-view+json": {
       "model_id": "79a620a3-e19d-45fb-985c-016a9089696c",
       "version_major": 2,
       "version_minor": 0
      },
      "method": "display_data"
     },
     "metadata": {},
     "output_type": "display_data"
    }
   ],
   "source": [
    "SELECT M.FCID_CODE, M.Intake_AVG, M.Intake_AVG_BW, (Intake_AVG/Intake_AVG_BW) AS AVG_Weight, CAST('true' as bool) AS baby_food\n",
    "FROM  Medias M\n",
    "GROUP BY M.FCID_CODE\n",
    "HAVING AVG_WEIGHT < 20\n",
    "/*Podemos definir um perfil de consumidor de alimentos baseado no peso médio dos consumidores, no caso com um peso médio abaixo de 20kg indica alimentos consumidos por infantos*/"
   ]
  },
  {
   "cell_type": "markdown",
   "metadata": {},
   "source": [
    "## 4) Que métricas podem ser analisadas para a comparação de perfis?\n",
    "* escreva uma query SQL que calcule pelo menos uma métrica comparativa"
   ]
  },
  {
   "cell_type": "code",
   "execution_count": 10,
   "metadata": {},
   "outputs": [
    {
     "data": {
      "application/vnd.jupyter.widget-view+json": {
       "model_id": "54cc7e2b-a4fb-4169-a965-528443e0e308",
       "version_major": 2,
       "version_minor": 0
      },
      "method": "display_data"
     },
     "metadata": {},
     "output_type": "display_data"
    }
   ],
   "source": [
    "SELECT M.FCID_CODE, M.Intake_AVG, M.Intake_AVG_BW, (Intake_AVG/Intake_AVG_BW) AS AVG_Weight\n",
    "FROM  Medias M\n",
    "/*Podemos comparar perfis de consumidores com base nos alimentos deles, sendo principalmente a diferença entre adultos e crianças, como podemos também diferenciar outros perfis a partir do peso*/"
   ]
  },
  {
   "cell_type": "code",
   "execution_count": null,
   "metadata": {},
   "outputs": [],
   "source": []
  }
 ],
 "metadata": {
  "kernelspec": {
   "display_name": "SQL",
   "language": "SQL",
   "name": "sql"
  },
  "language_info": {
   "codemirror_mode": "sql",
   "file_extension": ".sql",
   "mimetype": "",
   "name": "SQL",
   "nbconverter_exporter": "",
   "version": ""
  },
  "toc": {
   "base_numbering": 1,
   "nav_menu": {},
   "number_sections": false,
   "sideBar": false,
   "skip_h1_title": false,
   "title_cell": "Table of Contents",
   "title_sidebar": "Contents",
   "toc_cell": false,
   "toc_position": {},
   "toc_section_display": false,
   "toc_window_display": false
  }
 },
 "nbformat": 4,
 "nbformat_minor": 2
}
